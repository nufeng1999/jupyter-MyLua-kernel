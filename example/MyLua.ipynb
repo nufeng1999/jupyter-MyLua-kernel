{
 "cells": [
  {
   "cell_type": "code",
   "execution_count": 2,
   "id": "02e448fb",
   "metadata": {},
   "outputs": [
    {
     "name": "stdout",
     "output_type": "stream",
     "text": [
      "[MyLua] Info:file h:\\Jupyter\\ipynb\\MyLua\\src/test.lua created successfully\n",
      "[MyLua] Info:Generating executable file\n",
      "[MyLua] Info:luac -o src/test.luac h:\\Jupyter\\ipynb\\MyLua\\src/test.lua \n",
      "[MyLua] Info:The process end:9112\n",
      "[MyLua] Info:The process :h:\\Jupyter\\ipynb\\MyLua\\src/test.luac\n",
      "[MyLua] Info:lua h:\\Jupyter\\ipynb\\MyLua\\src/test.luac \n"
     ]
    },
    {
     "data": {
      "text/html": [
       "Hello World!\r\n"
      ]
     },
     "metadata": {
      "text/html": {}
     },
     "output_type": "display_data"
    },
    {
     "name": "stdout",
     "output_type": "stream",
     "text": [
      "[MyLua] Info:The process end:3792\n"
     ]
    }
   ],
   "source": [
    "##%log:1\n",
    "##%overwritefile\n",
    "##%file:src/test.lua\n",
    "##%cflags:-o src/test.luac\n",
    "##%outputtype:text/html\n",
    "function printHello(printString)\n",
    "    print(printString)\n",
    "end\n",
    " \n",
    "printHello(\"Hello World!\")"
   ]
  },
  {
   "cell_type": "code",
   "execution_count": null,
   "id": "b71c41d3",
   "metadata": {},
   "outputs": [],
   "source": []
  }
 ],
 "metadata": {
  "interpreter": {
   "hash": "790d66b9a7d127603100553f17b106d8e2aaf6777ced79107fc93b8d84add8f0"
  },
  "kernelspec": {
   "display_name": "MyLua",
   "language": "lua",
   "name": "mylua"
  },
  "language_info": {
   "codemirror_mode": {
    "name": "ipython",
    "version": 3
   },
   "file_extension": ".ts",
   "mimetype": "text/lua",
   "name": "lua",
   "nbconvert_exporter": "Lua",
   "pygments_lexer": "ipython3",
   "version": "3.9.6"
  },
  "widgets": {
   "application/vnd.jupyter.widget-state+json": {
    "state": {},
    "version_major": 2,
    "version_minor": 0
   }
  }
 },
 "nbformat": 4,
 "nbformat_minor": 5
}
