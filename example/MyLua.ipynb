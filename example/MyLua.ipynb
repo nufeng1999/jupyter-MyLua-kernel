{
 "cells": [
  {
   "cell_type": "code",
   "execution_count": 1,
   "id": "02e448fb",
   "metadata": {},
   "outputs": [
    {
     "name": "stdout",
     "output_type": "stream",
     "text": [
      "[MyLuaKernel220304] Info:file h:\\Jupyter\\ipynb\\MyLua\\src/test.lua created successfully\n",
      "[MyLuaKernel220304] Info:Generating executable file\n",
      "[MyLuaKernel220304] Info:luac -o src/test.luac h:\\Jupyter\\ipynb\\MyLua\\src/test.lua \n",
      "[MyLuaKernel220304] Info:The process end:9424\n",
      "[MyLuaKernel220304] Info:The process :h:\\Jupyter\\ipynb\\MyLua\\src/test.luac\n",
      "[MyLuaKernel220304] Info:lua h:\\Jupyter\\ipynb\\MyLua\\src/test.luac \n"
     ]
    },
    {
     "data": {
      "text/html": [
       "Hello World!\r\n"
      ]
     },
     "metadata": {
      "text/html": {}
     },
     "output_type": "display_data"
    },
    {
     "name": "stdout",
     "output_type": "stream",
     "text": [
      "[MyLuaKernel220304] Info:The process end:9364\n"
     ]
    }
   ],
   "source": [
    "##%log:1\n",
    "##%overwritefile\n",
    "##%file:src/test.lua\n",
    "##%cflags:-o src/test.luac\n",
    "##%outputtype:text/html\n",
    "function printHello(printString)\n",
    "    print(printString)\n",
    "end\n",
    " \n",
    "printHello(\"Hello World!\")"
   ]
  },
  {
   "cell_type": "code",
   "execution_count": null,
   "id": "b71c41d3",
   "metadata": {},
   "outputs": [],
   "source": [
    "##%log:1\n",
    "##%overwritefile\n",
    "##%file:src/test2.lua\n",
    "##%cflags:-o src/test2.luac\n",
    "## %outputtype:text/html\n",
    "-- coroutine_test.lua 文件\n",
    "co = coroutine.create(\n",
    "    function(i)\n",
    "        print(i);\n",
    "    end\n",
    ")\n",
    " \n",
    "coroutine.resume(co, 1)   -- 1\n",
    "print(coroutine.status(co))  -- dead\n",
    " \n",
    "print(\"----------\")\n",
    " \n",
    "co = coroutine.wrap(\n",
    "    function(i)\n",
    "        print(i);\n",
    "    end\n",
    ")\n",
    " \n",
    "co(1)\n",
    " \n",
    "print(\"----------\")\n",
    " \n",
    "co2 = coroutine.create(\n",
    "    function()\n",
    "        for i=1,10 do\n",
    "            print(i)\n",
    "            if i == 3 then\n",
    "                print(coroutine.status(co2))  --running\n",
    "                print(coroutine.running()) --thread:XXXXXX\n",
    "            end\n",
    "            coroutine.yield()\n",
    "        end\n",
    "    end\n",
    ")\n",
    " \n",
    "coroutine.resume(co2) --1\n",
    "coroutine.resume(co2) --2\n",
    "coroutine.resume(co2) --3\n",
    " \n",
    "print(coroutine.status(co2))   -- suspended\n",
    "print(coroutine.running())\n",
    " \n",
    "print(\"----------\")"
   ]
  },
  {
   "cell_type": "code",
   "execution_count": null,
   "id": "0d5aba2a",
   "metadata": {},
   "outputs": [],
   "source": [
    "##%log:1\n",
    "##%overwritefile\n",
    "##%file:src/test3.lua\n",
    "##%cflags:-o src/test3.luac\n",
    "## %outputtype:text/html\n",
    "function foo (a)\n",
    "    print(\"foo 函数输出\", a)\n",
    "    return coroutine.yield(2 * a) -- 返回  2*a 的值\n",
    "end\n",
    " \n",
    "co = coroutine.create(function (a , b)\n",
    "    print(\"第一次协同程序执行输出\", a, b) -- co-body 1 10\n",
    "    local r = foo(a + 1)\n",
    "     \n",
    "    print(\"第二次协同程序执行输出\", r)\n",
    "    local r, s = coroutine.yield(a + b, a - b)  -- a，b的值为第一次调用协同程序时传入\n",
    "     \n",
    "    print(\"第三次协同程序执行输出\", r, s)\n",
    "    return b, \"结束协同程序\"                   -- b的值为第二次调用协同程序时传入\n",
    "end)\n",
    "       \n",
    "print(\"main\", coroutine.resume(co, 1, 10)) -- true, 4\n",
    "print(\"--分割线----\")\n",
    "print(\"main\", coroutine.resume(co, \"r\")) -- true 11 -9\n",
    "print(\"---分割线---\")\n",
    "print(\"main\", coroutine.resume(co, \"x\", \"y\")) -- true 10 end\n",
    "print(\"---分割线---\")\n",
    "print(\"main\", coroutine.resume(co, \"x\", \"y\")) -- cannot resume dead coroutine\n",
    "print(\"---分割线---\")"
   ]
  },
  {
   "cell_type": "code",
   "execution_count": 1,
   "id": "7944ae90",
   "metadata": {},
   "outputs": [],
   "source": [
    "##%log:0\n",
    "##%overwritefile\n",
    "##%runinterm\n",
    "##%file:src/test3.lua\n",
    "##%cflags:-o src/test3.luac\n",
    "## %outputtype:text/html\n",
    "local newProductor\n",
    "\n",
    "function productor()\n",
    "     local i = 0\n",
    "     while true do\n",
    "          i = i + 1\n",
    "          send(i)     -- 将生产的物品发送给消费者\n",
    "     end\n",
    "end\n",
    "\n",
    "function consumer()\n",
    "     while true do\n",
    "          local i = receive()     -- 从生产者那里得到物品\n",
    "          print(i)\n",
    "     end\n",
    "end\n",
    "\n",
    "function receive()\n",
    "     local status, value = coroutine.resume(newProductor)\n",
    "     return value\n",
    "end\n",
    "\n",
    "function send(x)\n",
    "     coroutine.yield(x)     -- x表示需要发送的值，值返回以后，就挂起该协同程序\n",
    "end\n",
    "\n",
    "-- 启动程序\n",
    "newProductor = coroutine.create(productor)\n",
    "consumer()"
   ]
  },
  {
   "cell_type": "code",
   "execution_count": 2,
   "id": "2dae2dbb",
   "metadata": {},
   "outputs": [
    {
     "data": {
      "text/plain": [
       "19.708984375\r\n",
       "19.7373046875\r\n",
       "0\r\n",
       "19.203125\r\n"
      ]
     },
     "metadata": {
      "text/plain": {}
     },
     "output_type": "display_data"
    }
   ],
   "source": [
    "mytable = {\"apple\", \"orange\", \"banana\"}\n",
    "\n",
    "print(collectgarbage(\"count\"))\n",
    "\n",
    "mytable = nil\n",
    "\n",
    "print(collectgarbage(\"count\"))\n",
    "\n",
    "print(collectgarbage(\"collect\"))\n",
    "\n",
    "print(collectgarbage(\"count\"))"
   ]
  }
 ],
 "metadata": {
  "interpreter": {
   "hash": "790d66b9a7d127603100553f17b106d8e2aaf6777ced79107fc93b8d84add8f0"
  },
  "kernelspec": {
   "display_name": "MyLua",
   "language": "lua",
   "name": "mylua"
  },
  "language_info": {
   "codemirror_mode": {
    "name": "ipython",
    "version": 3
   },
   "file_extension": ".ts",
   "mimetype": "text/lua",
   "name": "lua",
   "nbconvert_exporter": "Lua",
   "pygments_lexer": "ipython3",
   "version": "3.9.6"
  },
  "widgets": {
   "application/vnd.jupyter.widget-state+json": {
    "state": {},
    "version_major": 2,
    "version_minor": 0
   }
  }
 },
 "nbformat": 4,
 "nbformat_minor": 5
}
